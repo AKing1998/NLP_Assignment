{
  "nbformat": 4,
  "nbformat_minor": 0,
  "metadata": {
    "colab": {
      "name": "NLP_Assignment_Naive_Bayes.ipynb",
      "version": "0.3.2",
      "provenance": []
    },
    "kernelspec": {
      "name": "python3",
      "display_name": "Python 3"
    }
  },
  "cells": [
    {
      "cell_type": "markdown",
      "metadata": {
        "id": "cUjIXqfgOIyY",
        "colab_type": "text"
      },
      "source": [
        "Implement Naive Bayes Classification Algorithm on Spambase Dataset"
      ]
    },
    {
      "cell_type": "markdown",
      "metadata": {
        "id": "RHRD9tEL8Uy3",
        "colab_type": "text"
      },
      "source": [
        "Uploading the data"
      ]
    },
    {
      "cell_type": "code",
      "metadata": {
        "id": "w0JN7UrlLOrK",
        "colab_type": "code",
        "colab": {}
      },
      "source": [
        "import pandas as pd \n",
        "url='https://raw.githubusercontent.com/AKing1998/NLP_Assignments/master/spambase.data'\n",
        "data=pd.read_csv(url)\n"
      ],
      "execution_count": 0,
      "outputs": []
    },
    {
      "cell_type": "code",
      "metadata": {
        "id": "4ptkEXFI-iZ7",
        "colab_type": "code",
        "colab": {}
      },
      "source": [
        "from sklearn.naive_bayes import GaussianNB\n"
      ],
      "execution_count": 0,
      "outputs": []
    },
    {
      "cell_type": "markdown",
      "metadata": {
        "id": "uuHPgK5W8_dC",
        "colab_type": "text"
      },
      "source": [
        "Converting the data into the probabilities and the outputs "
      ]
    },
    {
      "cell_type": "code",
      "metadata": {
        "id": "GIUSJkBu6T0N",
        "colab_type": "code",
        "colab": {}
      },
      "source": [
        "x=data.iloc[:,:57]\n",
        "y=data.iloc[:,-1]\n"
      ],
      "execution_count": 0,
      "outputs": []
    },
    {
      "cell_type": "markdown",
      "metadata": {
        "id": "G8irnh18-aM_",
        "colab_type": "text"
      },
      "source": [
        "Defining the model to be used"
      ]
    },
    {
      "cell_type": "code",
      "metadata": {
        "id": "WjSgr3X58bjx",
        "colab_type": "code",
        "colab": {}
      },
      "source": [
        "model = GaussianNB()"
      ],
      "execution_count": 0,
      "outputs": []
    },
    {
      "cell_type": "code",
      "metadata": {
        "id": "_-ZQB4dw9kms",
        "colab_type": "code",
        "colab": {}
      },
      "source": [
        "train_x=x[:3450]\n",
        "train_y=y[:3450]\n",
        "test_x=x[3450:]\n",
        "test_y=y[3450:]"
      ],
      "execution_count": 0,
      "outputs": []
    },
    {
      "cell_type": "code",
      "metadata": {
        "id": "qN0_bF879QEq",
        "colab_type": "code",
        "colab": {
          "base_uri": "https://localhost:8080/",
          "height": 33
        },
        "outputId": "98d4981c-b64d-45e0-bc45-e00957f345b7"
      },
      "source": [
        "model.fit(train_x,train_y)\n"
      ],
      "execution_count": 6,
      "outputs": [
        {
          "output_type": "execute_result",
          "data": {
            "text/plain": [
              "GaussianNB(priors=None, var_smoothing=1e-09)"
            ]
          },
          "metadata": {
            "tags": []
          },
          "execution_count": 6
        }
      ]
    },
    {
      "cell_type": "markdown",
      "metadata": {
        "id": "chDKEsy2-soL",
        "colab_type": "text"
      },
      "source": [
        "Testing the model with testing values"
      ]
    },
    {
      "cell_type": "code",
      "metadata": {
        "id": "UkTEOYOD-VY-",
        "colab_type": "code",
        "colab": {
          "base_uri": "https://localhost:8080/",
          "height": 33
        },
        "outputId": "90100d57-41e7-4869-9a30-1d9dd3b449ee"
      },
      "source": [
        "model.score(test_x, test_y)"
      ],
      "execution_count": 7,
      "outputs": [
        {
          "output_type": "execute_result",
          "data": {
            "text/plain": [
              "0.6504347826086957"
            ]
          },
          "metadata": {
            "tags": []
          },
          "execution_count": 7
        }
      ]
    },
    {
      "cell_type": "code",
      "metadata": {
        "id": "Z3s6RdhJ_II3",
        "colab_type": "code",
        "colab": {}
      },
      "source": [
        ""
      ],
      "execution_count": 0,
      "outputs": []
    }
  ]
}